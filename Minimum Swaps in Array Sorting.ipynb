{
 "cells": [
  {
   "cell_type": "markdown",
   "metadata": {},
   "source": [
    "### https://www.geeksforgeeks.org/minimum-number-swaps-required-sort-array/"
   ]
  },
  {
   "cell_type": "markdown",
   "metadata": {},
   "source": [
    "### swap any 2 numbers to sort the array\n",
    "1. model it as graph problem - find number of cycles (connected nodes)\n",
    "2. minimum swaps = sum (number of nodes - 1 in each cycle)"
   ]
  },
  {
   "cell_type": "code",
   "execution_count": 17,
   "metadata": {},
   "outputs": [],
   "source": [
    "# compare sorted array index postions starting from 0 - in sorted array what is new index at index 0, \n",
    "# if it is 3 now what is new index at index 3 -- repeat until we get a cycle\n",
    "# next find other cycle\n",
    "\n",
    "# arr = [2,3,4,1,5] - index positions - [0,1,2,3,4]\n",
    "# sorted array = [1,2,3,4,5] - sorted index positions - [3,0,1,2,4]\n",
    "# visit index 0 - we find latest index as 3, find new index at index 3 -- 2\n",
    "# find new index at index 2 --1, find new index at index 1 --0 -------- we formed a cycle\n",
    "# find new cycle -- increment index to 1 and start --- find new index at index 1 --0 ------already visited\n",
    "# increment to 2 -- 1 ---already visited\n",
    "# increment to 3 -- 2 -- already visited\n",
    "# increment to 4 -- 4 -- no need to swap this\n",
    "\n",
    "def MinimumSwaps(arr):\n",
    "    n = len(arr)\n",
    "    swaps = 0\n",
    "    # flags to store visiting status of each element in array\n",
    "    flag = {i:False for i in range(n)}\n",
    "    # store index position and value of original array\n",
    "    arr_index = [(i,v) for i, v in enumerate(arr)]\n",
    "    #sort the array on value\n",
    "    arr_index.sort(key = lambda a:a[1])\n",
    "    \n",
    "    for j in range(n):        \n",
    "        if flag[j] or arr_index[j][0] == j:\n",
    "            continue\n",
    "        # find number of nodes in cycle\n",
    "        i = j\n",
    "        nodes_cycle = 0\n",
    "        while not flag[i]:\n",
    "            flag[i] = True\n",
    "            # increase nodes in cycle\n",
    "            nodes_cycle += 1\n",
    "            # update next node in cycle\n",
    "            i = arr_index[i][0]\n",
    "        # add nodes -1 in each cycle to final answer\n",
    "        swaps += (nodes_cycle-1)\n",
    "    return swaps"
   ]
  },
  {
   "cell_type": "code",
   "execution_count": 20,
   "metadata": {},
   "outputs": [
    {
     "data": {
      "text/plain": [
       "3"
      ]
     },
     "execution_count": 20,
     "metadata": {},
     "output_type": "execute_result"
    }
   ],
   "source": [
    "arr = [2,3,4,1,5]\n",
    "MinimumSwaps(arr)"
   ]
  },
  {
   "cell_type": "code",
   "execution_count": 4,
   "metadata": {},
   "outputs": [
    {
     "name": "stdout",
     "output_type": "stream",
     "text": [
      "0 5\n",
      "1 2\n",
      "2 4\n",
      "3 3\n",
      "4 1\n"
     ]
    }
   ],
   "source": [
    "for i, v in enumerate(arr):\n",
    "    print(i,v)"
   ]
  },
  {
   "cell_type": "code",
   "execution_count": 8,
   "metadata": {},
   "outputs": [],
   "source": [
    "arr_sort = [None]*5\n",
    "for i, v in enumerate(arr):\n",
    "    arr_sort[i] = (i,v)"
   ]
  },
  {
   "cell_type": "code",
   "execution_count": 9,
   "metadata": {},
   "outputs": [
    {
     "data": {
      "text/plain": [
       "[(0, 5), (1, 2), (2, 4), (3, 3), (4, 1)]"
      ]
     },
     "execution_count": 9,
     "metadata": {},
     "output_type": "execute_result"
    }
   ],
   "source": [
    "arr_sort"
   ]
  },
  {
   "cell_type": "code",
   "execution_count": 13,
   "metadata": {},
   "outputs": [
    {
     "data": {
      "text/plain": [
       "[(4, 1), (1, 2), (3, 3), (2, 4), (0, 5)]"
      ]
     },
     "execution_count": 13,
     "metadata": {},
     "output_type": "execute_result"
    }
   ],
   "source": [
    "tmp = [(i,v) for i, v in enumerate(arr)]\n",
    "tmp.sort(key = lambda a:a[1])\n",
    "tmp"
   ]
  },
  {
   "cell_type": "code",
   "execution_count": null,
   "metadata": {},
   "outputs": [],
   "source": []
  }
 ],
 "metadata": {
  "kernelspec": {
   "display_name": "Python 3",
   "language": "python",
   "name": "python3"
  },
  "language_info": {
   "codemirror_mode": {
    "name": "ipython",
    "version": 3
   },
   "file_extension": ".py",
   "mimetype": "text/x-python",
   "name": "python",
   "nbconvert_exporter": "python",
   "pygments_lexer": "ipython3",
   "version": "3.7.1"
  }
 },
 "nbformat": 4,
 "nbformat_minor": 2
}
