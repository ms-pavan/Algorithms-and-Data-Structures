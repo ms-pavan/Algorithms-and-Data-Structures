{
 "cells": [
  {
   "cell_type": "markdown",
   "metadata": {},
   "source": [
    "### Fibonaci nth number using recursion"
   ]
  },
  {
   "cell_type": "code",
   "execution_count": null,
   "metadata": {},
   "outputs": [],
   "source": [
    "class fib:\n",
    "    def __init__(self,n):\n",
    "        self.n = n\n",
    "    def fibonaci(self):\n",
    "        if self.n==0 or self.n==1:\n",
    "            return self.n\n",
    "        else: \n",
    "            return fibonaci(self.n-1) + fibonaci(self.n-2)"
   ]
  },
  {
   "cell_type": "code",
   "execution_count": null,
   "metadata": {},
   "outputs": [],
   "source": [
    "f = fib(10)\n",
    "f.fibonaci()"
   ]
  },
  {
   "cell_type": "markdown",
   "metadata": {},
   "source": [
    "### Binary search - sort array, pass it to binary search method to find the given element "
   ]
  },
  {
   "cell_type": "code",
   "execution_count": 12,
   "metadata": {},
   "outputs": [
    {
     "name": "stdout",
     "output_type": "stream",
     "text": [
      "element found\n"
     ]
    }
   ],
   "source": [
    "def BinarySearch(arr,k,left, right):\n",
    "    #print(arr)\n",
    "    if right>=left:    \n",
    "        # find middle element index\n",
    "        m = left + (right-left)//2\n",
    "        if arr[m] == k:\n",
    "            return True\n",
    "            #return m  -- return index in sorted array\n",
    "        elif arr[m] > k:\n",
    "            return BinarySearch(arr,k,left,m-1)\n",
    "        else:\n",
    "            return BinarySearch(arr,k,m+1,right)\n",
    "    \n",
    "\n",
    "    \n",
    "arr = [5,10,20,3,2,25,30,6]\n",
    "# sort the array\n",
    "arr.sort()\n",
    "#arr = [2, 3,4, 5, 6, 10, 20, 25, 30]\n",
    "left, right = 0, len(arr)-1\n",
    "element_Index = BinarySearch(arr,30,0, len(arr)-1)\n",
    "if element_Index:\n",
    "    print('element found')\n",
    "    #print('element found at index {}'.format(element_Index))\n",
    "else:\n",
    "    print('element not found')"
   ]
  },
  {
   "cell_type": "code",
   "execution_count": null,
   "metadata": {},
   "outputs": [],
   "source": []
  },
  {
   "cell_type": "code",
   "execution_count": null,
   "metadata": {},
   "outputs": [],
   "source": []
  },
  {
   "cell_type": "code",
   "execution_count": null,
   "metadata": {},
   "outputs": [],
   "source": []
  }
 ],
 "metadata": {
  "kernelspec": {
   "display_name": "Python 3",
   "language": "python",
   "name": "python3"
  },
  "language_info": {
   "codemirror_mode": {
    "name": "ipython",
    "version": 3
   },
   "file_extension": ".py",
   "mimetype": "text/x-python",
   "name": "python",
   "nbconvert_exporter": "python",
   "pygments_lexer": "ipython3",
   "version": "3.7.1"
  }
 },
 "nbformat": 4,
 "nbformat_minor": 2
}
