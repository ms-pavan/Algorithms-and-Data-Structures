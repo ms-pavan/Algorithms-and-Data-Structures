{
 "cells": [
  {
   "cell_type": "markdown",
   "metadata": {},
   "source": [
    "### Matrix multiplication -  m*n arrays\n",
    "https://www.programiz.com/python-programming/examples/multiply-matrix"
   ]
  },
  {
   "cell_type": "code",
   "execution_count": 13,
   "metadata": {},
   "outputs": [],
   "source": [
    "import numpy as np\n",
    "def MatrixMultiplication(A, B):\n",
    "    m = A.shape[0]\n",
    "    n = B.shape[1]\n",
    "    s = B.shape[0]\n",
    "    C = np.zeros(shape=(m,n))\n",
    "    for i in range(m):\n",
    "        for j in range(n):\n",
    "            #print(C)\n",
    "            for k in range(s):\n",
    "                C[i,j] += A[i,k] *  B[k,j]\n",
    "                #print(A[i,k],B[k,j] ,C[i,j])\n",
    "    return C"
   ]
  },
  {
   "cell_type": "code",
   "execution_count": 16,
   "metadata": {},
   "outputs": [
    {
     "name": "stdout",
     "output_type": "stream",
     "text": [
      "[[  260.  3953.   341.]\n",
      " [  167.  1097.   140.]\n",
      " [  235.  1789.   313.]\n",
      " [ 2643. 18559.  3203.]\n",
      " [ 5805. 33939.  3293.]\n",
      " [  320.   419.   223.]]\n"
     ]
    }
   ],
   "source": [
    "A = np.array([[2,3,5,12],[8,3,2,3],[1,9,0,6],[11,95,20,56],[1,99,320,16],[21,9,0,1]])\n",
    "B = np.array([[7,4,1],[18,5,20],[12,90,3],[11,290,22]])\n",
    "#print(A)\n",
    "#print(B)\n",
    "print(MatrixMultiplication(A, B))"
   ]
  },
  {
   "cell_type": "code",
   "execution_count": 17,
   "metadata": {},
   "outputs": [
    {
     "name": "stdout",
     "output_type": "stream",
     "text": [
      "[[  260  3953   341]\n",
      " [  167  1097   140]\n",
      " [  235  1789   313]\n",
      " [ 2643 18559  3203]\n",
      " [ 5805 33939  3293]\n",
      " [  320   419   223]]\n"
     ]
    }
   ],
   "source": [
    "#print(A*B) print(np.multiply(A,B)) - dont use this for matrix multiplication\n",
    "print(np.dot(A,B)) #matrix multiplication using  numpy"
   ]
  },
  {
   "cell_type": "code",
   "execution_count": null,
   "metadata": {},
   "outputs": [],
   "source": []
  },
  {
   "cell_type": "code",
   "execution_count": null,
   "metadata": {},
   "outputs": [],
   "source": []
  },
  {
   "cell_type": "code",
   "execution_count": null,
   "metadata": {},
   "outputs": [],
   "source": []
  },
  {
   "cell_type": "code",
   "execution_count": null,
   "metadata": {},
   "outputs": [],
   "source": []
  }
 ],
 "metadata": {
  "kernelspec": {
   "display_name": "Python 3",
   "language": "python",
   "name": "python3"
  },
  "language_info": {
   "codemirror_mode": {
    "name": "ipython",
    "version": 3
   },
   "file_extension": ".py",
   "mimetype": "text/x-python",
   "name": "python",
   "nbconvert_exporter": "python",
   "pygments_lexer": "ipython3",
   "version": "3.7.1"
  }
 },
 "nbformat": 4,
 "nbformat_minor": 2
}
