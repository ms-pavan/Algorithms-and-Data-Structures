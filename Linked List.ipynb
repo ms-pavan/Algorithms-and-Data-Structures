{
 "cells": [
  {
   "cell_type": "markdown",
   "metadata": {},
   "source": [
    "### Linked List\n",
    "\n",
    "1. Linear data structure - the elements are not stored at contiguous location, they are linked using pointers\n",
    "2. each node has data field and a reference link to next node\n",
    "\n",
    "Advantages:\n",
    "1. Dynamic size\n",
    "2. Ease of insertion/deletion\n",
    "\n",
    "Disadvantages:\n",
    "1. No random access. We have to access elements sequentially starting from the first node\n",
    "2. Overhead of pointer\n",
    "\n",
    "I.   Singly Linked List  \n",
    "II.  Doubly Linked List  \n",
    "III. Circular Linked List"
   ]
  },
  {
   "cell_type": "markdown",
   "metadata": {},
   "source": [
    "### Singly Linked List - keeps track of next node only"
   ]
  },
  {
   "cell_type": "code",
   "execution_count": 132,
   "metadata": {},
   "outputs": [],
   "source": [
    "class Node:\n",
    "    def __init__(self,data):\n",
    "        self.data = data\n",
    "        self.next = None\n",
    "\n",
    "class LinkedList:\n",
    "    def __init__(self):\n",
    "        self.head = None\n",
    "    # adds a node to the linked list\n",
    "    def insert(self, data):\n",
    "        if self.head is None:\n",
    "            self.head = Node(data)\n",
    "        else:\n",
    "            x = self.head\n",
    "            while(x.next):\n",
    "                x = x.next            \n",
    "            x.next = Node(data)\n",
    "            \n",
    "    # insert new element to sorted linked list\n",
    "    def sortedInsert(self,data):\n",
    "        #linked list is empty, insert at head\n",
    "        if self.head is None:\n",
    "            self.head = Node(data)\n",
    "        #data is lesser than or equal to head, update this as head\n",
    "        elif data <= self.head.data:\n",
    "            node = Node(data)\n",
    "            node.next = self.head\n",
    "            self.head = node\n",
    "        # data should be inserted at other position\n",
    "        # find node position to be inserted - update next of its new node to next of previous, then next of previous to new node\n",
    "        else:\n",
    "            x = self.head\n",
    "            # if new node is highest - inserted at end of linked list\n",
    "            while(x.next and x.next.data < data):\n",
    "                x = x.next\n",
    "            node = Node(data)\n",
    "            node.next = x.next\n",
    "            x.next = node\n",
    "            \n",
    "    # delete a node from the linked list - find position of element, delete node, update next of previous node\n",
    "    def delete(self, node):\n",
    "              \n",
    "        try:\n",
    "            x = self.head   \n",
    "            if x is None:\n",
    "                raise ValueError('Element {} not found in the linked list'.format(node))\n",
    "            \n",
    "            # if node to delete is head - simply remove it  \n",
    "            if x.data == node:\n",
    "                self.head = x.next                \n",
    "            else:\n",
    "                prev = x\n",
    "                x = x.next\n",
    "                while(x is not None):\n",
    "                    if x.data == node:\n",
    "                        break\n",
    "                    prev = x\n",
    "                    x = x.next                            \n",
    "                # if element to delete is not found - raise value error exception\n",
    "                if x is None:\n",
    "                    raise ValueError('Element {} not found in the linked list'.format(node))                    \n",
    "                prev.next = x.next\n",
    "                x = None\n",
    "        except ValueError as error:\n",
    "            print(error)\n",
    "            \n",
    "    # search for a node in the linked list\n",
    "    def search(self, node):\n",
    "        try:\n",
    "            x = self.head   \n",
    "            if x is None:\n",
    "                raise ValueError('Element {} not found in the linked list'.format(node))\n",
    "            while(x is not None):\n",
    "                if x.data == node:\n",
    "                    break\n",
    "                x = x.next\n",
    "            # if element is not in the linked list\n",
    "            if x is None:\n",
    "                raise ValueError('Element {} not found in the linked list'.format(node))         \n",
    "            return x\n",
    "        except ValueError as error:\n",
    "            print(error)\n",
    "            \n",
    "    # utility function to print all elements in the linked list\n",
    "    def printList(self):\n",
    "        x = self.head\n",
    "        while(x is not None):            \n",
    "            print(x.data,end=' ')\n",
    "            x = x.next            "
   ]
  },
  {
   "cell_type": "markdown",
   "metadata": {},
   "source": [
    "### Insert and Sorted Insert"
   ]
  },
  {
   "cell_type": "code",
   "execution_count": 133,
   "metadata": {},
   "outputs": [],
   "source": [
    "# add elements to linked list\n",
    "linkedList = LinkedList()\n",
    "for i in range(10,100,5):\n",
    "    linkedList.insert(i)"
   ]
  },
  {
   "cell_type": "code",
   "execution_count": 134,
   "metadata": {},
   "outputs": [
    {
     "name": "stdout",
     "output_type": "stream",
     "text": [
      "10 15 20 25 30 35 40 45 50 55 60 65 70 75 80 85 90 95 "
     ]
    }
   ],
   "source": [
    "# print elements of linked list\n",
    "linkedList.printList()"
   ]
  },
  {
   "cell_type": "code",
   "execution_count": 135,
   "metadata": {},
   "outputs": [
    {
     "name": "stdout",
     "output_type": "stream",
     "text": [
      "5 10 15 20 25 30 35 40 45 50 55 60 65 70 75 80 85 90 95 "
     ]
    }
   ],
   "source": [
    "# insert new element 5 to above sorted linked list - updates head\n",
    "linkedList.sortedInsert(5)\n",
    "linkedList.printList()"
   ]
  },
  {
   "cell_type": "code",
   "execution_count": 136,
   "metadata": {},
   "outputs": [
    {
     "name": "stdout",
     "output_type": "stream",
     "text": [
      "5 10 15 16 20 25 30 35 40 45 50 55 60 65 70 75 80 85 90 95 "
     ]
    }
   ],
   "source": [
    "# insert new element 16 to above sorted linked list - finds it position , update previous and next nodes \n",
    "linkedList.sortedInsert(16)\n",
    "linkedList.printList()"
   ]
  },
  {
   "cell_type": "markdown",
   "metadata": {},
   "source": [
    "### Delete"
   ]
  },
  {
   "cell_type": "code",
   "execution_count": 137,
   "metadata": {},
   "outputs": [
    {
     "name": "stdout",
     "output_type": "stream",
     "text": [
      "10 15 16 20 25 30 35 40 45 50 55 60 65 70 75 80 85 90 95 "
     ]
    }
   ],
   "source": [
    "# delete head - 5\n",
    "linkedList.delete(5)\n",
    "linkedList.printList()"
   ]
  },
  {
   "cell_type": "code",
   "execution_count": 138,
   "metadata": {},
   "outputs": [
    {
     "name": "stdout",
     "output_type": "stream",
     "text": [
      "10 15 16 20 25 30 40 45 50 55 60 65 70 75 80 85 90 95 "
     ]
    }
   ],
   "source": [
    "# delete middle element - 35\n",
    "linkedList.delete(35)\n",
    "linkedList.printList()"
   ]
  },
  {
   "cell_type": "code",
   "execution_count": 139,
   "metadata": {},
   "outputs": [
    {
     "name": "stdout",
     "output_type": "stream",
     "text": [
      "10 15 16 20 25 30 40 45 50 55 60 65 70 75 80 85 90 "
     ]
    }
   ],
   "source": [
    "# delete tail element - 95\n",
    "linkedList.delete(95)\n",
    "linkedList.printList()"
   ]
  },
  {
   "cell_type": "code",
   "execution_count": 140,
   "metadata": {},
   "outputs": [
    {
     "name": "stdout",
     "output_type": "stream",
     "text": [
      "Element 56 not found in the linked list\n",
      "10 15 16 20 25 30 40 45 50 55 60 65 70 75 80 85 90 "
     ]
    }
   ],
   "source": [
    "# try to delete an element that does n't exist in the linked list\n",
    "linkedList.delete(56)\n",
    "linkedList.printList()"
   ]
  },
  {
   "cell_type": "markdown",
   "metadata": {},
   "source": [
    "### Search"
   ]
  },
  {
   "cell_type": "code",
   "execution_count": 151,
   "metadata": {},
   "outputs": [
    {
     "name": "stdout",
     "output_type": "stream",
     "text": [
      "given element 65 exists\n",
      "10 15 16 20 25 30 40 45 50 55 60 65 70 75 80 85 90 "
     ]
    }
   ],
   "source": [
    "# search for 65\n",
    "s = linkedList.search(65)\n",
    "if s:\n",
    "    print('given element {} exists'.format(s.data))\n",
    "linkedList.printList()"
   ]
  },
  {
   "cell_type": "code",
   "execution_count": 152,
   "metadata": {},
   "outputs": [
    {
     "name": "stdout",
     "output_type": "stream",
     "text": [
      "Element 19 not found in the linked list\n",
      "10 15 16 20 25 30 40 45 50 55 60 65 70 75 80 85 90 "
     ]
    }
   ],
   "source": [
    "# try to search an element that does n't exist in the linked list\n",
    "s = linkedList.search(19)\n",
    "if s:\n",
    "    print('given element {} exists'.format(s.data))\n",
    "linkedList.printList()"
   ]
  },
  {
   "cell_type": "code",
   "execution_count": null,
   "metadata": {},
   "outputs": [],
   "source": []
  },
  {
   "cell_type": "markdown",
   "metadata": {},
   "source": [
    "### Circular Linked List - last node is not null, it is connected to first node"
   ]
  },
  {
   "cell_type": "code",
   "execution_count": 17,
   "metadata": {},
   "outputs": [],
   "source": [
    "class Node:\n",
    "    def __init__(self,data):\n",
    "        self.data = data\n",
    "        self.next = None\n",
    "\n",
    "class CircularLinkedList:\n",
    "    def __init__(self):\n",
    "        self.head = None\n",
    "    # adds a node to the linked list - can be added at the front, last or after some node\n",
    "    def insert(self, data):\n",
    "        # create node\n",
    "        if self.head is None:            \n",
    "            self.head = Node(data)\n",
    "            self.head.next = self.head\n",
    "        else:\n",
    "            node = Node(data)\n",
    "            node.next = self.head\n",
    "            x = self.head\n",
    "            while(x.next is not self.head):\n",
    "                x = x.next\n",
    "            x.next = node\n",
    "            \n",
    "    def Print(self):\n",
    "        if self.head is not None:\n",
    "            x = self.head\n",
    "            while(x.next):\n",
    "                print(x.data, end=' ')\n",
    "                x = x.next\n",
    "                if x is self.head:\n",
    "                    break"
   ]
  },
  {
   "cell_type": "code",
   "execution_count": 23,
   "metadata": {},
   "outputs": [
    {
     "name": "stdout",
     "output_type": "stream",
     "text": [
      "0 5 10 15 20 25 30 35 40 45 50 55 60 65 70 75 80 85 90 95 "
     ]
    }
   ],
   "source": [
    "linkedList = CircularLinkedList()\n",
    "for i in range(0,100,5):\n",
    "    linkedList.insert(i)\n",
    "linkedList.Print()"
   ]
  },
  {
   "cell_type": "code",
   "execution_count": null,
   "metadata": {},
   "outputs": [],
   "source": []
  },
  {
   "cell_type": "code",
   "execution_count": null,
   "metadata": {},
   "outputs": [],
   "source": []
  },
  {
   "cell_type": "code",
   "execution_count": null,
   "metadata": {},
   "outputs": [],
   "source": []
  },
  {
   "cell_type": "code",
   "execution_count": null,
   "metadata": {},
   "outputs": [],
   "source": []
  }
 ],
 "metadata": {
  "kernelspec": {
   "display_name": "Python 3",
   "language": "python",
   "name": "python3"
  },
  "language_info": {
   "codemirror_mode": {
    "name": "ipython",
    "version": 3
   },
   "file_extension": ".py",
   "mimetype": "text/x-python",
   "name": "python",
   "nbconvert_exporter": "python",
   "pygments_lexer": "ipython3",
   "version": "3.7.1"
  }
 },
 "nbformat": 4,
 "nbformat_minor": 2
}
