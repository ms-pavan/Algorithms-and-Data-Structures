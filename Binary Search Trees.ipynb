{
 "cells": [
  {
   "cell_type": "markdown",
   "metadata": {},
   "source": [
    "### Binary Search Trees\n",
    "1. root node, left and right childs\n",
    "2. right >= root >= left"
   ]
  },
  {
   "cell_type": "markdown",
   "metadata": {},
   "source": [
    "### Inorder Traversal (left,key,right) -  print elements in order"
   ]
  },
  {
   "cell_type": "code",
   "execution_count": null,
   "metadata": {},
   "outputs": [],
   "source": [
    "# Class Node - store its value and instances of left and right child nodes\n",
    "class Node:        \n",
    "    def __init__(self,val):\n",
    "        self.key = val\n",
    "        self.left = None\n",
    "        self.right = None\n",
    "\n",
    "# Class BinaryTree - store root node, properties\n",
    "class BinaryTree:\n",
    "    def __init__(self):\n",
    "        self.root = None\n",
    "    def InorderTraversal(self, node):\n",
    "        if node:\n",
    "            self.InorderTraversal(node.left)\n",
    "            print(node.key,end=' ')\n",
    "            self.InorderTraversal(node.right)\n",
    "    def PreorderTraversal(self, node):\n",
    "        if node:\n",
    "            print(node.key,end=' ')\n",
    "            self.InorderTraversal(node.left)            \n",
    "            self.InorderTraversal(node.right)\n",
    "    def PostorderTraversal(self, node):\n",
    "        if node:\n",
    "            self.InorderTraversal(node.left)\n",
    "            self.InorderTraversal(node.right)  \n",
    "            print(node.key,end=' ')\n"
   ]
  },
  {
   "cell_type": "code",
   "execution_count": null,
   "metadata": {},
   "outputs": [],
   "source": [
    "binaryTree = BinaryTree()\n",
    "binaryTree.root = Node(50)\n",
    "binaryTree.root.left = Node(10)\n",
    "binaryTree.root.right = Node(200)"
   ]
  },
  {
   "cell_type": "code",
   "execution_count": null,
   "metadata": {},
   "outputs": [],
   "source": [
    "binaryTree.root.right.key"
   ]
  },
  {
   "cell_type": "code",
   "execution_count": null,
   "metadata": {},
   "outputs": [],
   "source": [
    "binaryTree.InorderTraversal(binaryTree.root)"
   ]
  },
  {
   "cell_type": "code",
   "execution_count": null,
   "metadata": {},
   "outputs": [],
   "source": [
    "# old version using insert method in node class\n",
    "# Node\n",
    "def insert(self, node):\n",
    "        if self.key > node:\n",
    "            if self.left:\n",
    "                self.left.insert(node)\n",
    "            else:\n",
    "                self.left = Node(node)\n",
    "        else:\n",
    "            if self.right:\n",
    "                self.right.insert(node)\n",
    "            else:\n",
    "                self.right = Node(node)\n",
    "                \n",
    "#BinaryTree\n",
    "def insert(self,node):\n",
    "        # if root exists, add child\n",
    "        if self.root:\n",
    "            self.root.insert(node)\n",
    "        # if no root add one\n",
    "        else:            \n",
    "            self.root = Node(node)   "
   ]
  },
  {
   "cell_type": "markdown",
   "metadata": {},
   "source": [
    "### Add nodes dynamically using insert method in Node class\n",
    "https://github.com/joeyajames/Python/blob/master/Trees/BinarySearchTree.py"
   ]
  },
  {
   "cell_type": "code",
   "execution_count": null,
   "metadata": {},
   "outputs": [],
   "source": []
  },
  {
   "cell_type": "code",
   "execution_count": 1,
   "metadata": {},
   "outputs": [],
   "source": [
    "# Class Node - store its value and instances of left, right child nodes and parent node\n",
    "class Node:        \n",
    "    def __init__(self,val):\n",
    "        self.key = val\n",
    "        self.left = None\n",
    "        self.right = None  \n",
    "        self.parent = None\n",
    "\n",
    "# Class BinaryTree - store root node, properties\n",
    "class BinaryTree:\n",
    "    def __init__(self):\n",
    "        self.root = None\n",
    "        # store inorder, preorder , postorder results in out list\n",
    "        self.out = []    \n",
    "        # store height of tree\n",
    "        self.height = 0\n",
    "        \n",
    "    def insert(self,node):\n",
    "        # if root exists, add child\n",
    "        if self.root:\n",
    "            self.insertNode(self.root, node)\n",
    "        # if no root add one\n",
    "        else:            \n",
    "            self.root = Node(node)    \n",
    "            \n",
    "    def insertNode(self,key,node):        \n",
    "        if key.key > node:\n",
    "            if key.left:\n",
    "                self.insertNode(key.left, node)\n",
    "            else:\n",
    "                key.left = Node(node)\n",
    "                key.left.parent = key\n",
    "        else:\n",
    "            if key.right:\n",
    "                self.insertNode(key.right, node)\n",
    "            else:\n",
    "                key.right = Node(node)\n",
    "                key.right.parent = key\n",
    "        \n",
    "    def InOrderTrav(self, node):\n",
    "        if node:\n",
    "            self.InOrderTrav(node.left)\n",
    "            print(node.key,end=' ')\n",
    "            self.out.append(node.key)\n",
    "            self.InOrderTrav(node.right)\n",
    "    def PreOrderTrav(self, node):\n",
    "        if node:\n",
    "            print(node.key,end=' ')\n",
    "            self.out.append(node.key)\n",
    "            self.PreOrderTrav(node.left)            \n",
    "            self.PreOrderTrav(node.right)\n",
    "    def PostOrderTrav(self, node):\n",
    "        if node:\n",
    "            self.PostOrderTrav(node.left)\n",
    "            self.PostOrderTrav(node.right)  \n",
    "            print(node.key,end=' ')\n",
    "            self.out.append(node.key)\n",
    "    def InOrderTraversal(self):\n",
    "        if not self.root:\n",
    "            self.ErrorMsg()\n",
    "        else:\n",
    "            self.InOrderTrav(self.root)\n",
    "    def PreOrderTraversal(self):\n",
    "        if not self.root:\n",
    "            self.ErrorMsg()\n",
    "        else:\n",
    "            self.PreOrderTrav(self.root)\n",
    "    def PostOrderTraversal(self):\n",
    "        if not self.root:\n",
    "            self.ErrorMsg()\n",
    "        else:\n",
    "            self.PostOrderTrav(self.root)\n",
    "            \n",
    "    def PrintTree(self):\n",
    "        if not self.root:\n",
    "            self.ErrorMsg()\n",
    "        else:\n",
    "            self.Print(self.root) \n",
    "    \n",
    "    # not done - try to print in a tree format\n",
    "    def Print(self,node):\n",
    "        if node:            \n",
    "            print(node.key,' ')\n",
    "            self.Print(node.left)\n",
    "            self.Print(node.right)\n",
    "    def Height(self):\n",
    "        if not self.root:\n",
    "            self.ErrorMsg()\n",
    "        else:          \n",
    "            self.height = self.TreeHeight(self.root)\n",
    "            print('Tree Height = ',self.height)\n",
    "    def TreeHeight(self, node):\n",
    "        if node.left and node.right:\n",
    "            return 1+ max(self.TreeHeight(node.left), self.TreeHeight(node.right))\n",
    "            self.TreeHeight(node.left)       \n",
    "        elif node.left:\n",
    "            return 1 + self.TreeHeight(node.left)            \n",
    "        elif node.right:\n",
    "            return 1 + self.TreeHeight(node.right)\n",
    "        else:\n",
    "            return 1\n",
    "    # min element is the left most in the tree\n",
    "    def Min(self):\n",
    "        if not self.root:\n",
    "            self.ErrorMsg()\n",
    "        else:          \n",
    "            x= self.root\n",
    "            while(x.left):\n",
    "                x = x.left\n",
    "            return x.key\n",
    "    # min element is the right most in the tree\n",
    "    def Max(self):\n",
    "        if not self.root:\n",
    "            self.ErrorMsg()\n",
    "        else:          \n",
    "            x= self.root\n",
    "            while(x.right):\n",
    "                x = x.right\n",
    "            return x.key\n",
    "        \n",
    "    # search for element in iterative approach            \n",
    "    def Search(self,k):\n",
    "        x = self.root\n",
    "        # if root is null return None -- base case\n",
    "        # if key is found return that node\n",
    "        while(x and x.key != k):\n",
    "            #print(k,x.key)\n",
    "            if k < x.key:\n",
    "                x = x.left\n",
    "            else:\n",
    "                x = x.right\n",
    "        return x\n",
    "    \n",
    "       \n",
    "    # delete a node\n",
    "    def Delete(self,k):    \n",
    "        # find node to delete - Search method to find k\n",
    "        x = self.Search(k)        \n",
    "        # x is node to remove      \n",
    "        if x is None:\n",
    "            print('Data not found')\n",
    "        else:            \n",
    "            #case 1: given x has no child - remove x\n",
    "            if x.left is None and x.right is None:\n",
    "                # get parent of x\n",
    "                p = x.parent\n",
    "                #print(p.key)\n",
    "                if k<p.key:\n",
    "                    p.left = None                    \n",
    "                else:\n",
    "                    p.right = None\n",
    "            #case 2: x has one child - point parent of x to child of x\n",
    "            # use xor to find this case - true only if one of the child is None\n",
    "            elif (x.left is None) ^ (x.right is None):\n",
    "                #print('one child')\n",
    "                # k has only left child\n",
    "\n",
    "                # get parent of x\n",
    "                p = x.parent\n",
    "                if x.left:\n",
    "                    if k<p.key:\n",
    "                        p.left = x.left\n",
    "                        x.left.parent = p\n",
    "                    else:\n",
    "                        p.right = x.left\n",
    "                        x.left.parent = p\n",
    "                # k has only right child\n",
    "                else:\n",
    "                    if k<p.key:\n",
    "                        p.left = x.right\n",
    "                        x.right.parent = p\n",
    "                        #x.right = None\n",
    "                        #x.parent = None\n",
    "                    else:\n",
    "                        p.right = x.right\n",
    "                        x.right.parent = p\n",
    "            # case 3: x has both right and left child\n",
    "            # swap x with its successor and perform case 1 or case 2 to delete it\n",
    "            elif x.left is not None and x.right is not None:\n",
    "                # find successor of x\n",
    "                s = self.Successor(x)\n",
    "                # swap successor of x with it\n",
    "                temp = x.key\n",
    "                x.key = s.key\n",
    "                s.key = temp\n",
    "\n",
    "                #now delete x by using case 1 or case 2\n",
    "                #case 1 - no left and right child\n",
    "                #case 2 - no need to check successor left - if it has a left child then it would be the successor(lesser value)\n",
    "                p = s.parent\n",
    "                if s.right is None: # case 1\n",
    "                    if s.key < p.key:\n",
    "                        p.left = None                    \n",
    "                    else:\n",
    "                        p.right = None\n",
    "                else: #case 2 if s.right --- compare s.right.key with parent of s\n",
    "                    if s.right.key < p.key:\n",
    "                        p.left = s.right\n",
    "                        s.right.parent = p\n",
    "                    else:\n",
    "                        p.right = s.right\n",
    "                        s.right.parent = p\n",
    "                        \n",
    "    # find tree minimum of given node as root\n",
    "    def TreeMinofNode(self, node): \n",
    "        x= node\n",
    "        while(x.left):\n",
    "            x = x.left\n",
    "        return x\n",
    "       \n",
    "    # Tree successor of given node\n",
    "    def Successor(self, x):        \n",
    "        if x.right is not None:\n",
    "            # find minimum of right node\n",
    "            return self.TreeMinofNode(x.right)\n",
    "        # when right node of x is null\n",
    "        y = x.parent\n",
    "        while y is not None and x is y.right:\n",
    "            x = y\n",
    "            y = y.parent\n",
    "        return y\n",
    "            \n",
    "            \n",
    "                    \n",
    "    def ErrorMsg(self):\n",
    "        print('Add elements to tree')\n",
    "        "
   ]
  },
  {
   "cell_type": "code",
   "execution_count": 94,
   "metadata": {},
   "outputs": [
    {
     "name": "stdout",
     "output_type": "stream",
     "text": [
      "92 20 64 34 25 66 11 65 7 17 17 50 82 3 43 52 33 70 59 37 1 34 48 54 32 94 99 80 6 12 38 24 77 61 9 98 95 15 60 77 99 34 45 98 67 87 43 69 66 4 44 51 59 5 98 53 38 52 58 55 11 46 60 51 90 40 55 57 92 26 28 89 81 54 72 93 5 85 86 59 3 2 92 99 3 23 55 97 12 66 11 26 44 24 87 45 62 50 95 25 "
     ]
    }
   ],
   "source": [
    "import random\n",
    "tree = BinaryTree()\n",
    "for i in range(100):\n",
    "    n = random.randint(1,100)\n",
    "    print(n, end=' ')\n",
    "#string = '57 13 14 12 46 8 30 87 18 88'\n",
    "#for n in list(map(int,string.split(' '))):\n",
    "    tree.insert(n)"
   ]
  },
  {
   "cell_type": "code",
   "execution_count": null,
   "metadata": {},
   "outputs": [],
   "source": [
    "tree.InOrderTraversal()"
   ]
  },
  {
   "cell_type": "code",
   "execution_count": null,
   "metadata": {},
   "outputs": [],
   "source": [
    "tree.PreOrderTraversal()"
   ]
  },
  {
   "cell_type": "code",
   "execution_count": 93,
   "metadata": {},
   "outputs": [
    {
     "data": {
      "text/plain": [
       "57"
      ]
     },
     "execution_count": 93,
     "metadata": {},
     "output_type": "execute_result"
    }
   ],
   "source": [
    "tree.root.key"
   ]
  },
  {
   "cell_type": "code",
   "execution_count": 92,
   "metadata": {},
   "outputs": [
    {
     "name": "stdout",
     "output_type": "stream",
     "text": [
      "Tree Height =  6\n"
     ]
    }
   ],
   "source": [
    "tree.Height()"
   ]
  },
  {
   "cell_type": "code",
   "execution_count": null,
   "metadata": {},
   "outputs": [],
   "source": []
  },
  {
   "cell_type": "code",
   "execution_count": 96,
   "metadata": {},
   "outputs": [
    {
     "data": {
      "text/plain": [
       "(1, 99)"
      ]
     },
     "execution_count": 96,
     "metadata": {},
     "output_type": "execute_result"
    }
   ],
   "source": [
    "#tree = BinaryTree()\n",
    "tree.Min(),tree.Max()"
   ]
  },
  {
   "cell_type": "code",
   "execution_count": 97,
   "metadata": {},
   "outputs": [
    {
     "name": "stdout",
     "output_type": "stream",
     "text": [
      "6 8 10 12 13 14 18 30 46 57 66 68 87 90 188 "
     ]
    }
   ],
   "source": [
    "tree = BinaryTree()\n",
    "string = '57 13 14 12 46 8 30 87 18 188 66 90 10 68 6'\n",
    "for n in list(map(int,string.split(' '))):\n",
    "    tree.insert(n)\n",
    "tree.InOrderTraversal()"
   ]
  },
  {
   "cell_type": "code",
   "execution_count": null,
   "metadata": {},
   "outputs": [],
   "source": []
  },
  {
   "cell_type": "code",
   "execution_count": 98,
   "metadata": {},
   "outputs": [
    {
     "name": "stdout",
     "output_type": "stream",
     "text": [
      "left node:  30\n",
      "right node is empty\n"
     ]
    }
   ],
   "source": [
    "node = tree.Search(46)\n",
    "if node and node.left:\n",
    "    node_left = node.left\n",
    "    print('left node: ',node_left.key)\n",
    "else:\n",
    "    print('left node is empty')\n",
    "if node and node.right:\n",
    "    node_right = node.right\n",
    "    print('right node: ',node_right.key)\n",
    "else:\n",
    "    print('right node is empty')"
   ]
  },
  {
   "cell_type": "code",
   "execution_count": 99,
   "metadata": {},
   "outputs": [
    {
     "name": "stdout",
     "output_type": "stream",
     "text": [
      "6 8 10 12 13 14 18 30 46 57 66 68 87 90 188 "
     ]
    }
   ],
   "source": [
    "tree.InOrderTraversal()"
   ]
  },
  {
   "cell_type": "code",
   "execution_count": 87,
   "metadata": {},
   "outputs": [
    {
     "name": "stdout",
     "output_type": "stream",
     "text": [
      "6 8 10 12 13 14 18 30 46 57 66 68 87 90 188 \n",
      "delete 66\n",
      "6 8 10 12 13 14 18 30 46 57 68 87 90 188 \n",
      "delete 14\n",
      "6 8 10 12 13 18 30 46 57 68 87 90 188 \n",
      "delete 57\n",
      "6 8 10 12 13 18 30 46 68 87 90 188 \n",
      "delete 13\n",
      "6 8 10 12 18 30 46 68 87 90 188 \n",
      "delete 10\n",
      "6 8 12 18 30 46 68 87 90 188 \n",
      "delete 188\n",
      "6 8 12 18 30 46 68 87 90 \n",
      "delete 14\n",
      "Data not found\n",
      "6 8 12 18 30 46 68 87 90 \n",
      "delete 18\n",
      "6 8 12 30 46 68 87 90 \n",
      "delete 57\n",
      "Data not found\n",
      "6 8 12 30 46 68 87 90 \n"
     ]
    }
   ],
   "source": [
    "tree = BinaryTree()\n",
    "string = '57 13 14 12 46 8 30 87 18 188 66 90 10 68 6'\n",
    "for n in list(map(int,string.split(' '))):\n",
    "    tree.insert(n)\n",
    "tree.InOrderTraversal()\n",
    "print('')\n",
    "for n in [66,14,57,13,10,188,14,18,57]:\n",
    "    print('delete', n)\n",
    "    tree.Delete(n)\n",
    "    tree.InOrderTraversal()\n",
    "    print('')\n",
    "\n"
   ]
  },
  {
   "cell_type": "code",
   "execution_count": null,
   "metadata": {},
   "outputs": [],
   "source": []
  },
  {
   "cell_type": "code",
   "execution_count": 6,
   "metadata": {},
   "outputs": [
    {
     "name": "stdout",
     "output_type": "stream",
     "text": [
      "1 1 1 1 2 2 2 "
     ]
    }
   ],
   "source": [
    "tree = BinaryTree()\n",
    "for i in [2,1,2,1,1,1,2]:\n",
    "    tree.insert(i)\n",
    "tree.InOrderTraversal()"
   ]
  },
  {
   "cell_type": "markdown",
   "metadata": {},
   "source": [
    "### N th node of inorder traversal"
   ]
  },
  {
   "cell_type": "code",
   "execution_count": 60,
   "metadata": {},
   "outputs": [],
   "source": [
    "# Class Node - store its value and instances of left and right child nodes\n",
    "class Node:        \n",
    "    def __init__(self,val):\n",
    "        self.key = val\n",
    "        self.left = None\n",
    "        self.right = None\n",
    "        \n",
    "\n",
    "class BinaryTree:\n",
    "    def __init__(self):\n",
    "        self.counter = 0\n",
    "    def N_node_InOrder(self,node,n):\n",
    "        if node:\n",
    "            if self.counter < n:\n",
    "                self.N_node_InOrder(node.left,n)\n",
    "                self.counter += 1                \n",
    "                if self.counter == n:\n",
    "                    print(node.key)\n",
    "                self.N_node_InOrder(node.right,n)\n",
    "    def InOrder(self,node):\n",
    "        if node:\n",
    "            self.InOrder(node.left)\n",
    "            print(node.key,end=' ')\n",
    "            self.InOrder(node.right)"
   ]
  },
  {
   "cell_type": "code",
   "execution_count": 61,
   "metadata": {},
   "outputs": [],
   "source": [
    "root = Node(10)\n",
    "root.left = Node(20)\n",
    "root.right = Node(30)\n",
    "root.left.left = Node(40)\n",
    "root.left.right = Node(50)\n",
    "root.left.left.left = Node(60)\n",
    "root.left.left.right = Node(70)"
   ]
  },
  {
   "cell_type": "code",
   "execution_count": 62,
   "metadata": {},
   "outputs": [
    {
     "name": "stdout",
     "output_type": "stream",
     "text": [
      "40\n"
     ]
    }
   ],
   "source": [
    "tree = BinaryTree()\n",
    "tree.N_node_InOrder(root,2)"
   ]
  },
  {
   "cell_type": "code",
   "execution_count": 63,
   "metadata": {},
   "outputs": [
    {
     "name": "stdout",
     "output_type": "stream",
     "text": [
      "60 40 70 20 50 10 30 "
     ]
    }
   ],
   "source": [
    "tree.InOrder(root)"
   ]
  },
  {
   "cell_type": "markdown",
   "metadata": {},
   "source": [
    "### Level order traversal\n",
    "1. Use Queue of nodes\n",
    "2. Add root to queue\n",
    "3. DeQueue node (remove first node in Queue, copy it to temp node - print data, Enqueue temp node left and right child\n",
    "4. Repeat step 3 until Queue is not empty\n",
    "\n",
    "https://www.geeksforgeeks.org/level-order-tree-traversal/"
   ]
  },
  {
   "cell_type": "code",
   "execution_count": null,
   "metadata": {},
   "outputs": [],
   "source": []
  },
  {
   "cell_type": "code",
   "execution_count": null,
   "metadata": {},
   "outputs": [],
   "source": []
  },
  {
   "cell_type": "code",
   "execution_count": null,
   "metadata": {},
   "outputs": [],
   "source": []
  },
  {
   "cell_type": "code",
   "execution_count": null,
   "metadata": {},
   "outputs": [],
   "source": []
  }
 ],
 "metadata": {
  "kernelspec": {
   "display_name": "Python 3",
   "language": "python",
   "name": "python3"
  },
  "language_info": {
   "codemirror_mode": {
    "name": "ipython",
    "version": 3
   },
   "file_extension": ".py",
   "mimetype": "text/x-python",
   "name": "python",
   "nbconvert_exporter": "python",
   "pygments_lexer": "ipython3",
   "version": "3.7.1"
  }
 },
 "nbformat": 4,
 "nbformat_minor": 2
}
