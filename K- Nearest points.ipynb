{
 "cells": [
  {
   "cell_type": "markdown",
   "metadata": {},
   "source": [
    "### K- Nearest points\n",
    "\n",
    "### Given a list of points, a central point, and an integer k, find the nearest k points from the central point. For example, given the list of points [(0, 0), (5, 4), (3, 1)], the central point (1, 2), and k = 2, return [(0, 0), (3, 1)].\n",
    "\n",
    "1. find eucledian distance between each point and central point\n",
    "2. return k shortest distance points"
   ]
  },
  {
   "cell_type": "code",
   "execution_count": 45,
   "metadata": {},
   "outputs": [
    {
     "name": "stdout",
     "output_type": "stream",
     "text": [
      "3 nearest points:\n",
      "1 (1, 1), distance = 1\n",
      "2 (2, 3), distance = 2\n",
      "3 (0, 0), distance = 5\n"
     ]
    }
   ],
   "source": [
    "import math\n",
    "\n",
    "def KNearestPoints(points, centre, k):\n",
    "    d = []\n",
    "    # find eucledian distance of each point to center\n",
    "    for point in points:\n",
    "        d.append([point, Eucledian(point, centre)])\n",
    "    d.sort(key = lambda k: k[1])\n",
    "    print('{} nearest points:'.format(k))\n",
    "    for i in range(k):\n",
    "        print('{} {}, distance = {}'.format(i+1, d[i][0], d[i][1]) )\n",
    "# can use squared distance also (neglecting square root - as integers are handled better)    \n",
    "def Eucledian(point, centre):\n",
    "    #return math.sqrt((point[0] - centre[0])**2 + (point[1] - centre[1])**2)\n",
    "    return (point[0] - centre[0])**2 + (point[1] - centre[1])**2\n",
    "\n",
    "points = [(0, 0), (5, 4), (3, 1),(2,3),(5,1),(11,5),(1,1)]\n",
    "centre = (1,2)\n",
    "k = 3\n",
    "KNearestPoints(points, centre, k)"
   ]
  },
  {
   "cell_type": "code",
   "execution_count": null,
   "metadata": {},
   "outputs": [],
   "source": []
  },
  {
   "cell_type": "markdown",
   "metadata": {},
   "source": [
    "### Approach 2 - use heap data structure, extract k nearest points (priority queue - min heap)\n",
    "\n",
    "https://www.geeksforgeeks.org/heap-queue-or-heapq-in-python/\n",
    "\n",
    "1. similar to above approach\n",
    "2. use min heap instead of list - store point and distance in each node\n",
    "3. extract min of heap k times based on min distance"
   ]
  },
  {
   "cell_type": "code",
   "execution_count": null,
   "metadata": {},
   "outputs": [],
   "source": []
  }
 ],
 "metadata": {
  "kernelspec": {
   "display_name": "Python 3",
   "language": "python",
   "name": "python3"
  },
  "language_info": {
   "codemirror_mode": {
    "name": "ipython",
    "version": 3
   },
   "file_extension": ".py",
   "mimetype": "text/x-python",
   "name": "python",
   "nbconvert_exporter": "python",
   "pygments_lexer": "ipython3",
   "version": "3.7.1"
  }
 },
 "nbformat": 4,
 "nbformat_minor": 2
}
