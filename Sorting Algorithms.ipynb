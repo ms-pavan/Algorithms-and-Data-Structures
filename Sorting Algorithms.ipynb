{
 "cells": [
  {
   "cell_type": "markdown",
   "metadata": {},
   "source": [
    "### Insertion Sort  - arranging pack of cards - sort from left to right\n",
    "### always left side should be sorted"
   ]
  },
  {
   "cell_type": "code",
   "execution_count": 8,
   "metadata": {},
   "outputs": [],
   "source": [
    "def InsertionSort(arr):\n",
    "    size = len(arr)\n",
    "    for j in range(1,size):\n",
    "        key = arr[j] #insert key in to sorted array\n",
    "        i = j-1\n",
    "        while (i >= 0 and arr[i] > key):\n",
    "            arr[i+1] = arr[i]\n",
    "            i = i-1\n",
    "        arr[i+1] = key"
   ]
  },
  {
   "cell_type": "code",
   "execution_count": 7,
   "metadata": {},
   "outputs": [
    {
     "data": {
      "text/plain": [
       "2"
      ]
     },
     "execution_count": 7,
     "metadata": {},
     "output_type": "execute_result"
    }
   ],
   "source": [
    "arr[1]"
   ]
  },
  {
   "cell_type": "code",
   "execution_count": 28,
   "metadata": {},
   "outputs": [
    {
     "data": {
      "text/plain": [
       "[1, 1, 1, 1, 1, 1, 1, 1, 1, 1, 1, 2, 2, 2, 3, 4, 5, 11, 22]"
      ]
     },
     "execution_count": 28,
     "metadata": {},
     "output_type": "execute_result"
    }
   ],
   "source": [
    "arr = [3,5,4,2,1,1,1,1,1,11,1,1,1,1,2,22,2,1,1]\n",
    "InsertionSort(arr)\n",
    "arr"
   ]
  },
  {
   "cell_type": "code",
   "execution_count": null,
   "metadata": {},
   "outputs": [],
   "source": []
  },
  {
   "cell_type": "markdown",
   "metadata": {},
   "source": [
    "### Merge Sort - Divide and Conquer\n",
    "1. divide array into left and right halves\n",
    "2. sort left and right arrays recursively\n",
    "3. finally merge sorted arrays\n",
    "\n",
    "##### https://www.geeksforgeeks.org/merge-sort/"
   ]
  },
  {
   "cell_type": "code",
   "execution_count": 29,
   "metadata": {},
   "outputs": [],
   "source": [
    "def Merge(A,left,right):\n",
    "    print('Merge A',A)\n",
    "    print('Merge left',left)\n",
    "    print('Merge right',right)   \n",
    "    \n",
    "    i = j = k = 0\n",
    "    while i < len(left) and j < len(right):        \n",
    "        if left[i] > right[j]:\n",
    "            A[k] = right[j]\n",
    "            j += 1\n",
    "        else:\n",
    "            A[k] = left[i]\n",
    "            i += 1\n",
    "        k +=1\n",
    "    while i< len(left):\n",
    "        A[k] = left[i]\n",
    "        i += 1\n",
    "        k += 1\n",
    "    while j< len(right):\n",
    "        A[k] = right[j]\n",
    "        j += 1\n",
    "        k += 1\n",
    "    print('Merged',A)\n",
    "    \n",
    "    \n",
    "    \n",
    "def MergeSort(A):\n",
    "    n = len(A)\n",
    "    print('A',A)\n",
    "    if n > 1:\n",
    "        m = n//2 # mid point of array\n",
    "        left = A[:m]\n",
    "        right = A[m:]\n",
    "        MergeSort(left)\n",
    "        MergeSort(right)\n",
    "        Merge(A,left,right)"
   ]
  },
  {
   "cell_type": "code",
   "execution_count": 35,
   "metadata": {},
   "outputs": [
    {
     "name": "stdout",
     "output_type": "stream",
     "text": [
      "A [65, 21, 3, 14, 55, 2, 7]\n",
      "A [65, 21, 3]\n",
      "A [65]\n",
      "A [21, 3]\n",
      "A [21]\n",
      "A [3]\n",
      "Merge A [21, 3]\n",
      "Merge left [21]\n",
      "Merge right [3]\n",
      "Merged [3, 21]\n",
      "Merge A [65, 21, 3]\n",
      "Merge left [65]\n",
      "Merge right [3, 21]\n",
      "Merged [3, 21, 65]\n",
      "A [14, 55, 2, 7]\n",
      "A [14, 55]\n",
      "A [14]\n",
      "A [55]\n",
      "Merge A [14, 55]\n",
      "Merge left [14]\n",
      "Merge right [55]\n",
      "Merged [14, 55]\n",
      "A [2, 7]\n",
      "A [2]\n",
      "A [7]\n",
      "Merge A [2, 7]\n",
      "Merge left [2]\n",
      "Merge right [7]\n",
      "Merged [2, 7]\n",
      "Merge A [14, 55, 2, 7]\n",
      "Merge left [14, 55]\n",
      "Merge right [2, 7]\n",
      "Merged [2, 7, 14, 55]\n",
      "Merge A [65, 21, 3, 14, 55, 2, 7]\n",
      "Merge left [3, 21, 65]\n",
      "Merge right [2, 7, 14, 55]\n",
      "Merged [2, 3, 7, 14, 21, 55, 65]\n",
      "Sorted array : [2, 3, 7, 14, 21, 55, 65]\n"
     ]
    }
   ],
   "source": [
    "A = [65,21,3,14,55,2,7]\n",
    "MergeSort(A)\n",
    "print('Sorted array :', A)"
   ]
  },
  {
   "cell_type": "code",
   "execution_count": null,
   "metadata": {},
   "outputs": [],
   "source": []
  },
  {
   "cell_type": "markdown",
   "metadata": {},
   "source": [
    "### Bubble sort - repeatedly swaps adjacent elements\n",
    "https://www.geeksforgeeks.org/bubble-sort/"
   ]
  },
  {
   "cell_type": "code",
   "execution_count": 79,
   "metadata": {},
   "outputs": [],
   "source": [
    "def BubbleSort(arr):\n",
    "    n = len(arr)\n",
    "    for i in range(n):\n",
    "        swap = False\n",
    "        print('round ', i+1)\n",
    "        for j in range(0,n-i-1): # in each round, highest element is moved to last, no need to compare it\n",
    "            if arr[j] > arr [j+1]:\n",
    "                arr[j], arr[j+1] = arr[j+1], arr[j]\n",
    "                swap = True\n",
    "                print(arr)\n",
    "        # if no two elements are swaped in inner loop, array is in already sorted\n",
    "        #if swap==False:\n",
    "        if not swap:\n",
    "            print('end')\n",
    "            break\n",
    "            "
   ]
  },
  {
   "cell_type": "code",
   "execution_count": 80,
   "metadata": {},
   "outputs": [
    {
     "name": "stdout",
     "output_type": "stream",
     "text": [
      "round  1\n",
      "[6, 8, 2, 3, 5]\n",
      "[6, 2, 8, 3, 5]\n",
      "[6, 2, 3, 8, 5]\n",
      "[6, 2, 3, 5, 8]\n",
      "round  2\n",
      "[2, 6, 3, 5, 8]\n",
      "[2, 3, 6, 5, 8]\n",
      "[2, 3, 5, 6, 8]\n",
      "round  3\n",
      "end\n"
     ]
    },
    {
     "data": {
      "text/plain": [
       "[2, 3, 5, 6, 8]"
      ]
     },
     "execution_count": 80,
     "metadata": {},
     "output_type": "execute_result"
    }
   ],
   "source": [
    "arr = [8,6,2,3,5]\n",
    "BubbleSort(arr)\n",
    "arr"
   ]
  },
  {
   "cell_type": "markdown",
   "metadata": {},
   "source": [
    "### Application of bubble sort - get n maximum elements from array\n",
    "1. repeat outer loop n times\n",
    "2. select n elements from last"
   ]
  },
  {
   "cell_type": "code",
   "execution_count": 88,
   "metadata": {},
   "outputs": [
    {
     "name": "stdout",
     "output_type": "stream",
     "text": [
      "round  1\n",
      "[3, 4, 19, 99, 65, 3, 32, 56, 89, 1, 8]\n",
      "[3, 4, 19, 65, 99, 3, 32, 56, 89, 1, 8]\n",
      "[3, 4, 19, 65, 3, 99, 32, 56, 89, 1, 8]\n",
      "[3, 4, 19, 65, 3, 32, 99, 56, 89, 1, 8]\n",
      "[3, 4, 19, 65, 3, 32, 56, 99, 89, 1, 8]\n",
      "[3, 4, 19, 65, 3, 32, 56, 89, 99, 1, 8]\n",
      "[3, 4, 19, 65, 3, 32, 56, 89, 1, 99, 8]\n",
      "[3, 4, 19, 65, 3, 32, 56, 89, 1, 8, 99]\n",
      "round  2\n",
      "[3, 4, 19, 3, 65, 32, 56, 89, 1, 8, 99]\n",
      "[3, 4, 19, 3, 32, 65, 56, 89, 1, 8, 99]\n",
      "[3, 4, 19, 3, 32, 56, 65, 89, 1, 8, 99]\n",
      "[3, 4, 19, 3, 32, 56, 65, 1, 89, 8, 99]\n",
      "[3, 4, 19, 3, 32, 56, 65, 1, 8, 89, 99]\n",
      "round  3\n",
      "[3, 4, 3, 19, 32, 56, 65, 1, 8, 89, 99]\n",
      "[3, 4, 3, 19, 32, 56, 1, 65, 8, 89, 99]\n",
      "[3, 4, 3, 19, 32, 56, 1, 8, 65, 89, 99]\n"
     ]
    }
   ],
   "source": [
    "max = 3\n",
    "arr = [4,3,19,99,65,3,32,56,89,1,8]\n",
    "arr1 = arr.copy()\n",
    "n = len(arr)\n",
    "for i in range(max):\n",
    "    swap = False\n",
    "    print('round ', i+1)\n",
    "    for j in range(0,n-i-1): # in each round, highest element is moved to last, no need to compare it\n",
    "        if arr[j] > arr [j+1]:\n",
    "            arr[j], arr[j+1] = arr[j+1], arr[j]\n",
    "            swap = True\n",
    "            print(arr)\n",
    "    # if no two elements are swaped in inner loop, array is in already sorted\n",
    "    if swap==False:\n",
    "        print('end')\n",
    "        break"
   ]
  },
  {
   "cell_type": "code",
   "execution_count": 89,
   "metadata": {},
   "outputs": [
    {
     "name": "stdout",
     "output_type": "stream",
     "text": [
      "[4, 3, 19, 99, 65, 3, 32, 56, 89, 1, 8]\n",
      "[3, 4, 3, 19, 32, 56, 1, 8, 65, 89, 99]\n",
      "max 3 elements in the array are: [65, 89, 99]\n"
     ]
    }
   ],
   "source": [
    "print(arr1)\n",
    "print(arr)\n",
    "print('max {} elements in the array are: {}'.format(max, arr[-max:]))"
   ]
  },
  {
   "cell_type": "code",
   "execution_count": null,
   "metadata": {},
   "outputs": [],
   "source": []
  },
  {
   "cell_type": "code",
   "execution_count": null,
   "metadata": {},
   "outputs": [],
   "source": []
  },
  {
   "cell_type": "code",
   "execution_count": null,
   "metadata": {},
   "outputs": [],
   "source": []
  },
  {
   "cell_type": "code",
   "execution_count": null,
   "metadata": {},
   "outputs": [],
   "source": []
  }
 ],
 "metadata": {
  "kernelspec": {
   "display_name": "Python 3",
   "language": "python",
   "name": "python3"
  },
  "language_info": {
   "codemirror_mode": {
    "name": "ipython",
    "version": 3
   },
   "file_extension": ".py",
   "mimetype": "text/x-python",
   "name": "python",
   "nbconvert_exporter": "python",
   "pygments_lexer": "ipython3",
   "version": "3.7.1"
  }
 },
 "nbformat": 4,
 "nbformat_minor": 2
}
