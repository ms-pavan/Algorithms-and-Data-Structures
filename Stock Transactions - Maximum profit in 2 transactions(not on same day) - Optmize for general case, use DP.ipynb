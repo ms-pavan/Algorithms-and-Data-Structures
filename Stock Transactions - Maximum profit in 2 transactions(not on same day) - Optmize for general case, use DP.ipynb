{
 "cells": [
  {
   "cell_type": "markdown",
   "metadata": {},
   "source": [
    "### Maximum profit of stocks in 2 transactions"
   ]
  },
  {
   "cell_type": "code",
   "execution_count": 5,
   "metadata": {},
   "outputs": [],
   "source": [
    "import numpy as np"
   ]
  },
  {
   "cell_type": "code",
   "execution_count": null,
   "metadata": {},
   "outputs": [],
   "source": []
  },
  {
   "cell_type": "code",
   "execution_count": null,
   "metadata": {},
   "outputs": [],
   "source": []
  },
  {
   "cell_type": "markdown",
   "metadata": {},
   "source": [
    "### Let us take stock prices of 6 days\n",
    "### Generate a profit 2d matrix showing profits for one transaction (buy on day 1 and sell on day 2--profit[0,2])"
   ]
  },
  {
   "cell_type": "code",
   "execution_count": 6,
   "metadata": {},
   "outputs": [
    {
     "name": "stdout",
     "output_type": "stream",
     "text": [
      "Stock prices of 8 days:\n",
      "[10, 30, 40, 20, 60, 80, 10, 100]\n"
     ]
    }
   ],
   "source": [
    "#stock_Price = [10,20,30,5,40,80]\n",
    "\n",
    "stock_Price = [10,30,40,20,60,80,10,100]\n",
    "days = len(stock_Price)\n",
    "print('Stock prices of {} days:\\n{}'.format(days,stock_Price))"
   ]
  },
  {
   "cell_type": "markdown",
   "metadata": {},
   "source": [
    "### Profits after one transaction\n",
    "1. 2D matrix Indexes showing Buy Days on Y-axis and Sell Days on X-axis from top to bottom, left to right respectively\n",
    "2. Profit  = sell - buy \n",
    "3. Sell day >= Buy day"
   ]
  },
  {
   "cell_type": "code",
   "execution_count": 7,
   "metadata": {},
   "outputs": [
    {
     "name": "stdout",
     "output_type": "stream",
     "text": [
      "[[  0.  20.  30.  10.  50.  70.   0.  90.]\n",
      " [ nan   0.  10. -10.  30.  50. -20.  70.]\n",
      " [ nan  nan   0. -20.  20.  40. -30.  60.]\n",
      " [ nan  nan  nan   0.  40.  60. -10.  80.]\n",
      " [ nan  nan  nan  nan   0.  20. -50.  40.]\n",
      " [ nan  nan  nan  nan  nan   0. -70.  20.]\n",
      " [ nan  nan  nan  nan  nan  nan   0.  90.]\n",
      " [ nan  nan  nan  nan  nan  nan  nan   0.]]\n"
     ]
    }
   ],
   "source": [
    "def Transaction_One(stock_Price):\n",
    "    days = len(stock_Price)\n",
    "    profit = np.zeros(shape=(days,days))\n",
    "    for i in range(days):\n",
    "        for j in range(days):\n",
    "            if j>=i:\n",
    "                profit[i,j] = stock_Price[j] - stock_Price[i]\n",
    "            else:\n",
    "                profit[i,j] = np.NaN\n",
    "    return profit\n",
    "profit = Transaction_One(stock_Price)\n",
    "print(profit)"
   ]
  },
  {
   "cell_type": "markdown",
   "metadata": {},
   "source": [
    "### Buy on day 3 and sell on day 4"
   ]
  },
  {
   "cell_type": "code",
   "execution_count": 8,
   "metadata": {},
   "outputs": [
    {
     "data": {
      "text/plain": [
       "-20.0"
      ]
     },
     "execution_count": 8,
     "metadata": {},
     "output_type": "execute_result"
    }
   ],
   "source": [
    "buy = 3\n",
    "sell = 4\n",
    "profit[buy-1][sell-1]"
   ]
  },
  {
   "cell_type": "markdown",
   "metadata": {},
   "source": [
    "### Buy on day 1 and sell on day 2"
   ]
  },
  {
   "cell_type": "code",
   "execution_count": 9,
   "metadata": {},
   "outputs": [
    {
     "data": {
      "text/plain": [
       "20.0"
      ]
     },
     "execution_count": 9,
     "metadata": {},
     "output_type": "execute_result"
    }
   ],
   "source": [
    "buy = 1\n",
    "sell = 2\n",
    "profit[buy-1][sell-1]"
   ]
  },
  {
   "cell_type": "code",
   "execution_count": 11,
   "metadata": {},
   "outputs": [],
   "source": [
    "def TransactionDays(max_Index,days):\n",
    "    if max_Index<days:\n",
    "        max_val_Index = 1,(max_Index%days) +1\n",
    "        return max_val_Index\n",
    "    else:\n",
    "        max_val_Index = (max_Index//days)+1,(max_Index%days)+1\n",
    "        return max_val_Index\n"
   ]
  },
  {
   "cell_type": "markdown",
   "metadata": {},
   "source": [
    "### Maximum profit after one transaction "
   ]
  },
  {
   "cell_type": "code",
   "execution_count": 12,
   "metadata": {},
   "outputs": [
    {
     "name": "stdout",
     "output_type": "stream",
     "text": [
      "Max profit: 90.0 \n",
      "Buy: day 1\n",
      "Sell: day 8\n"
     ]
    }
   ],
   "source": [
    "max_Profit = np.nanmax(profit)\n",
    "max_Index = np.nanargmax(profit)\n",
    "buy,sell = TransactionDays(max_Index,days)\n",
    "print('Max profit: {} \\nBuy: day {}\\nSell: day {}'.format(max_Profit, buy, sell))"
   ]
  },
  {
   "cell_type": "code",
   "execution_count": 13,
   "metadata": {},
   "outputs": [
    {
     "data": {
      "text/plain": [
       "array([[  0.,  20.,  30.,  10.,  50.,  70.,   0.,  90.],\n",
       "       [ nan,   0.,  10., -10.,  30.,  50., -20.,  70.],\n",
       "       [ nan,  nan,   0., -20.,  20.,  40., -30.,  60.],\n",
       "       [ nan,  nan,  nan,   0.,  40.,  60., -10.,  80.],\n",
       "       [ nan,  nan,  nan,  nan,   0.,  20., -50.,  40.],\n",
       "       [ nan,  nan,  nan,  nan,  nan,   0., -70.,  20.],\n",
       "       [ nan,  nan,  nan,  nan,  nan,  nan,   0.,  90.],\n",
       "       [ nan,  nan,  nan,  nan,  nan,  nan,  nan,   0.]])"
      ]
     },
     "execution_count": 13,
     "metadata": {},
     "output_type": "execute_result"
    }
   ],
   "source": [
    "Transaction_One(stock_Price)"
   ]
  },
  {
   "cell_type": "code",
   "execution_count": 14,
   "metadata": {},
   "outputs": [],
   "source": [
    "# returns max profit after 2 transactions\n",
    "def Transaction_Two(stock_Price):\n",
    "    # transaction 1 profits\n",
    "    profit = Transaction_One(stock_Price)\n",
    "    max_profit = 0\n",
    "    for i in range(days):\n",
    "        for j in range(days):\n",
    "\n",
    "            # max profit in 2 transactions --- profit[i,j] = profit[i,j] + max profit(profit[j:days, j:days])\n",
    "            # transaction 2 can begin on same sell day of day i which is day j or next days of j\n",
    "            #if i<=j: # consider only upper triangle in profit matrix\n",
    "                #print('day ', i,j)\n",
    "            profit[i,j] += np.nanmax(profit[j:days, j:days])\n",
    "    return profit"
   ]
  },
  {
   "cell_type": "code",
   "execution_count": 19,
   "metadata": {},
   "outputs": [
    {
     "name": "stdout",
     "output_type": "stream",
     "text": [
      "Max profit after 2 transactions: 160.0\n",
      "Transaction 1: \n",
      "Buy: day 1\n",
      "Sell: day 6\n"
     ]
    }
   ],
   "source": [
    "profit = Transaction_Two(stock_Price)\n",
    "max_Profit = np.nanmax(profit)\n",
    "max_Index = np.nanargmax(profit)\n",
    "max_val_Index = TransactionDays(max_Index, days)\n",
    "print('Max profit after 2 transactions: {}'.format(max_Profit))\n",
    "print('Transaction 1: \\nBuy: day {}\\nSell: day {}'.format(max_val_Index[0], max_val_Index[1]))\n",
    "#print('Transaction 2: \\nBuy: day {}\\nSell: day {}'.format(1,1))"
   ]
  },
  {
   "cell_type": "code",
   "execution_count": 20,
   "metadata": {},
   "outputs": [],
   "source": [
    "# returns max profit after 2 transactions along with days\n",
    "def Transaction_Two_New(stock_Price):\n",
    "    # transaction 1 profits\n",
    "    profit = Transaction_One(stock_Price)\n",
    "    max_profit = 0\n",
    "    for i in range(days):\n",
    "        for j in range(days):\n",
    "\n",
    "            # max profit in 2 transactions --- profit[i,j] = profit[i,j] + max profit(profit[j:days, j:days])\n",
    "            # transaction 2 can begin on same sell day of day i which is day j or next days of j\n",
    "            if i<=j: # consider only upper triangle in profit matrix\n",
    "                #print('day ', i,j)\n",
    "                profit[i,j] += np.nanmax(profit[j:days, j:days])\n",
    "                if profit[i,j] >=max_profit:\n",
    "                    max_profit = profit[i,j] \n",
    "                    day_buy_tran1 = i+1\n",
    "                    day_sell_tran1 = j+1\n",
    "                    tran1_days = (day_buy_tran1,day_sell_tran1)\n",
    "                    # tran 2 index\n",
    "                    tran2 = np.nanargmax(profit[j:days, j:days])\n",
    "                    cols = days - j # sub matrix to fetch max profit in tran2 with respect to tran1\n",
    "                    rows = tran2//cols\n",
    "                    # tran2 start index\n",
    "                    tj = j*days + j\n",
    "                    tj += tran2 + rows * j\n",
    "                    tran2_days = TransactionDays(tj,days)\n",
    "                    #print(tran2_days)\n",
    "    return max_profit,tran1_days,tran2_days"
   ]
  },
  {
   "cell_type": "code",
   "execution_count": 21,
   "metadata": {},
   "outputs": [
    {
     "name": "stdout",
     "output_type": "stream",
     "text": [
      "Max profit after 2 transactions: 160.0\n",
      "Transaction 1: \n",
      "Buy: day 1\n",
      "Sell: day 6\n",
      "Transaction 2: \n",
      "Buy: day 7\n",
      "Sell: day 8\n"
     ]
    }
   ],
   "source": [
    "stock_Price = [10,30,40,20,60,80,10,100]\n",
    "max_profit,tran1_days,tran2_days = Transaction_Two_New(stock_Price)\n",
    "print('Max profit after 2 transactions: {}'.format(max_profit))\n",
    "print('Transaction 1: \\nBuy: day {}\\nSell: day {}'.format(tran1_days[0], tran1_days[1]))\n",
    "print('Transaction 2: \\nBuy: day {}\\nSell: day {}'.format(tran2_days[0], tran2_days[1]))"
   ]
  },
  {
   "cell_type": "code",
   "execution_count": null,
   "metadata": {},
   "outputs": [],
   "source": []
  },
  {
   "cell_type": "code",
   "execution_count": null,
   "metadata": {},
   "outputs": [],
   "source": []
  },
  {
   "cell_type": "code",
   "execution_count": null,
   "metadata": {},
   "outputs": [],
   "source": []
  },
  {
   "cell_type": "code",
   "execution_count": null,
   "metadata": {},
   "outputs": [],
   "source": []
  },
  {
   "cell_type": "code",
   "execution_count": null,
   "metadata": {},
   "outputs": [],
   "source": []
  }
 ],
 "metadata": {
  "kernelspec": {
   "display_name": "Python 3",
   "language": "python",
   "name": "python3"
  },
  "language_info": {
   "codemirror_mode": {
    "name": "ipython",
    "version": 3
   },
   "file_extension": ".py",
   "mimetype": "text/x-python",
   "name": "python",
   "nbconvert_exporter": "python",
   "pygments_lexer": "ipython3",
   "version": "3.7.1"
  }
 },
 "nbformat": 4,
 "nbformat_minor": 2
}
